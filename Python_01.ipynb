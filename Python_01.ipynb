{
 "cells": [
  {
   "cell_type": "code",
   "execution_count": 1,
   "id": "48c2ea34",
   "metadata": {},
   "outputs": [
    {
     "name": "stdout",
     "output_type": "stream",
     "text": [
      "Merhaba\n"
     ]
    }
   ],
   "source": [
    "print(\"Merhaba\")"
   ]
  },
  {
   "cell_type": "code",
   "execution_count": 2,
   "id": "1821adb3",
   "metadata": {},
   "outputs": [
    {
     "name": "stdout",
     "output_type": "stream",
     "text": [
      "Merhaba\n"
     ]
    }
   ],
   "source": [
    "print('Merhaba')"
   ]
  },
  {
   "cell_type": "code",
   "execution_count": 3,
   "id": "0d75e945",
   "metadata": {},
   "outputs": [
    {
     "name": "stdout",
     "output_type": "stream",
     "text": [
      "Don't fear!\n"
     ]
    }
   ],
   "source": [
    "print(\"Don't fear!\")"
   ]
  },
  {
   "cell_type": "code",
   "execution_count": 4,
   "id": "6b9126bb",
   "metadata": {},
   "outputs": [
    {
     "name": "stdout",
     "output_type": "stream",
     "text": [
      "Don\"t fear!\n"
     ]
    }
   ],
   "source": [
    "print('Don\"t fear!')"
   ]
  },
  {
   "cell_type": "code",
   "execution_count": 5,
   "id": "461e3d40",
   "metadata": {},
   "outputs": [
    {
     "name": "stdout",
     "output_type": "stream",
     "text": [
      "I'm reading \"Hamlet\" tonight.\n"
     ]
    }
   ],
   "source": [
    "print(\"\"\"I'm reading \"Hamlet\" tonight.\"\"\")"
   ]
  },
  {
   "cell_type": "code",
   "execution_count": 9,
   "id": "8512e131",
   "metadata": {},
   "outputs": [
    {
     "name": "stdout",
     "output_type": "stream",
     "text": [
      "        One\n",
      "        Two\n",
      "        Three\n"
     ]
    }
   ],
   "source": [
    "print(\"\"\"        One\n",
    "        Two\n",
    "        Three\"\"\") "
   ]
  },
  {
   "cell_type": "code",
   "execution_count": 10,
   "id": "a733cabb",
   "metadata": {},
   "outputs": [],
   "source": [
    "# Bu bir yorumdur"
   ]
  },
  {
   "cell_type": "code",
   "execution_count": 11,
   "id": "65d358b7",
   "metadata": {},
   "outputs": [
    {
     "data": {
      "text/plain": [
       "'\\n  * None\\n  * NotImplemented\\n  * Ellipsis (...)\\n  '"
      ]
     },
     "execution_count": 11,
     "metadata": {},
     "output_type": "execute_result"
    }
   ],
   "source": [
    "'''\n",
    "  * None\n",
    "  * NotImplemented\n",
    "  * Ellipsis (...)\n",
    "'''"
   ]
  },
  {
   "cell_type": "code",
   "execution_count": 12,
   "id": "3cd899eb",
   "metadata": {},
   "outputs": [],
   "source": [
    "width = 10\n",
    "length = 5"
   ]
  },
  {
   "cell_type": "code",
   "execution_count": 14,
   "id": "9790797e",
   "metadata": {},
   "outputs": [
    {
     "name": "stdout",
     "output_type": "stream",
     "text": [
      "10\n",
      "5\n"
     ]
    }
   ],
   "source": [
    "print(width)\n",
    "print(length)"
   ]
  },
  {
   "cell_type": "code",
   "execution_count": 15,
   "id": "b5aa541a",
   "metadata": {},
   "outputs": [
    {
     "name": "stdout",
     "output_type": "stream",
     "text": [
      "15\n"
     ]
    }
   ],
   "source": [
    "print(width+length)"
   ]
  },
  {
   "cell_type": "code",
   "execution_count": 17,
   "id": "576d7688",
   "metadata": {},
   "outputs": [
    {
     "name": "stdout",
     "output_type": "stream",
     "text": [
      "widthlength\n"
     ]
    }
   ],
   "source": [
    "print('width'+'length')"
   ]
  },
  {
   "cell_type": "code",
   "execution_count": 18,
   "id": "aec2e5af",
   "metadata": {},
   "outputs": [],
   "source": [
    "width = 'ali'"
   ]
  },
  {
   "cell_type": "code",
   "execution_count": 19,
   "id": "e1daca88",
   "metadata": {},
   "outputs": [
    {
     "name": "stdout",
     "output_type": "stream",
     "text": [
      "ali\n"
     ]
    }
   ],
   "source": [
    "print(width)"
   ]
  },
  {
   "cell_type": "code",
   "execution_count": 20,
   "id": "dde68ecf",
   "metadata": {},
   "outputs": [
    {
     "name": "stdout",
     "output_type": "stream",
     "text": [
      "3.14\n"
     ]
    }
   ],
   "source": [
    "width = 3.14\n",
    "print(width)"
   ]
  },
  {
   "cell_type": "code",
   "execution_count": 21,
   "id": "1f022df1",
   "metadata": {},
   "outputs": [
    {
     "ename": "NameError",
     "evalue": "name 'Width' is not defined",
     "output_type": "error",
     "traceback": [
      "\u001b[1;31m---------------------------------------------------------------------------\u001b[0m",
      "\u001b[1;31mNameError\u001b[0m                                 Traceback (most recent call last)",
      "\u001b[1;32m<ipython-input-21-adfa4fd9bbb3>\u001b[0m in \u001b[0;36m<module>\u001b[1;34m\u001b[0m\n\u001b[1;32m----> 1\u001b[1;33m \u001b[0mprint\u001b[0m\u001b[1;33m(\u001b[0m\u001b[0mWidth\u001b[0m\u001b[1;33m)\u001b[0m\u001b[1;33m\u001b[0m\u001b[1;33m\u001b[0m\u001b[0m\n\u001b[0m",
      "\u001b[1;31mNameError\u001b[0m: name 'Width' is not defined"
     ]
    }
   ],
   "source": [
    "print(Width)"
   ]
  },
  {
   "cell_type": "code",
   "execution_count": 22,
   "id": "ccc70f0d",
   "metadata": {},
   "outputs": [
    {
     "data": {
      "text/plain": [
       "int"
      ]
     },
     "execution_count": 22,
     "metadata": {},
     "output_type": "execute_result"
    }
   ],
   "source": [
    "type(1)"
   ]
  },
  {
   "cell_type": "code",
   "execution_count": 23,
   "id": "bd34d9ad",
   "metadata": {},
   "outputs": [
    {
     "data": {
      "text/plain": [
       "float"
      ]
     },
     "execution_count": 23,
     "metadata": {},
     "output_type": "execute_result"
    }
   ],
   "source": [
    "type(1.0)"
   ]
  },
  {
   "cell_type": "code",
   "execution_count": 24,
   "id": "e5a6e2c3",
   "metadata": {},
   "outputs": [
    {
     "data": {
      "text/plain": [
       "str"
      ]
     },
     "execution_count": 24,
     "metadata": {},
     "output_type": "execute_result"
    }
   ],
   "source": [
    "type(\"ali\")"
   ]
  },
  {
   "cell_type": "code",
   "execution_count": 25,
   "id": "d7e5f5a0",
   "metadata": {},
   "outputs": [
    {
     "data": {
      "text/plain": [
       "str"
      ]
     },
     "execution_count": 25,
     "metadata": {},
     "output_type": "execute_result"
    }
   ],
   "source": [
    "type('ali')"
   ]
  },
  {
   "cell_type": "code",
   "execution_count": 26,
   "id": "7b45b2fd",
   "metadata": {},
   "outputs": [
    {
     "name": "stdout",
     "output_type": "stream",
     "text": [
      "İsminizi giriniz...Furkan\n"
     ]
    }
   ],
   "source": [
    "name = input(\"İsminizi giriniz...\")"
   ]
  },
  {
   "cell_type": "code",
   "execution_count": 27,
   "id": "fce18009",
   "metadata": {},
   "outputs": [
    {
     "name": "stdout",
     "output_type": "stream",
     "text": [
      "Furkan\n"
     ]
    }
   ],
   "source": [
    "print(name)"
   ]
  },
  {
   "cell_type": "code",
   "execution_count": 28,
   "id": "47f516fa",
   "metadata": {},
   "outputs": [
    {
     "data": {
      "text/plain": [
       "'Furkan'"
      ]
     },
     "execution_count": 28,
     "metadata": {},
     "output_type": "execute_result"
    }
   ],
   "source": [
    "name"
   ]
  },
  {
   "cell_type": "code",
   "execution_count": 29,
   "id": "d7c8fd38",
   "metadata": {},
   "outputs": [
    {
     "name": "stdout",
     "output_type": "stream",
     "text": [
      "Doğum yılını giriniz...1979\n"
     ]
    }
   ],
   "source": [
    "dogumyili = input(\"Doğum yılını giriniz...\")"
   ]
  },
  {
   "cell_type": "code",
   "execution_count": 31,
   "id": "5752932d",
   "metadata": {},
   "outputs": [
    {
     "ename": "TypeError",
     "evalue": "unsupported operand type(s) for -: 'int' and 'str'",
     "output_type": "error",
     "traceback": [
      "\u001b[1;31m---------------------------------------------------------------------------\u001b[0m",
      "\u001b[1;31mTypeError\u001b[0m                                 Traceback (most recent call last)",
      "\u001b[1;32m<ipython-input-31-6d3e11229d9c>\u001b[0m in \u001b[0;36m<module>\u001b[1;34m\u001b[0m\n\u001b[1;32m----> 1\u001b[1;33m \u001b[0myas\u001b[0m \u001b[1;33m=\u001b[0m \u001b[1;36m2021\u001b[0m \u001b[1;33m-\u001b[0m \u001b[0mdogumyili\u001b[0m\u001b[1;33m\u001b[0m\u001b[1;33m\u001b[0m\u001b[0m\n\u001b[0m",
      "\u001b[1;31mTypeError\u001b[0m: unsupported operand type(s) for -: 'int' and 'str'"
     ]
    }
   ],
   "source": [
    "yas = 2021 - dogumyili"
   ]
  },
  {
   "cell_type": "code",
   "execution_count": 33,
   "id": "5557f3a3",
   "metadata": {},
   "outputs": [],
   "source": [
    "yas = 2021 - int(dogumyili)"
   ]
  },
  {
   "cell_type": "code",
   "execution_count": 34,
   "id": "7a52e290",
   "metadata": {},
   "outputs": [
    {
     "name": "stdout",
     "output_type": "stream",
     "text": [
      "42\n"
     ]
    }
   ],
   "source": [
    "print(yas)"
   ]
  },
  {
   "cell_type": "code",
   "execution_count": 39,
   "id": "78a24cc9",
   "metadata": {},
   "outputs": [
    {
     "name": "stdout",
     "output_type": "stream",
     "text": [
      "Doğum yılını giriniz...1979\n",
      "42\n"
     ]
    }
   ],
   "source": [
    "dogumyili = int(input(\"Doğum yılını giriniz...\"))\n",
    "yas = 2021 - dogumyili\n",
    "print(yas)"
   ]
  },
  {
   "cell_type": "code",
   "execution_count": 40,
   "id": "fc9bfd28",
   "metadata": {},
   "outputs": [
    {
     "data": {
      "text/plain": [
       "1.5"
      ]
     },
     "execution_count": 40,
     "metadata": {},
     "output_type": "execute_result"
    }
   ],
   "source": [
    "3/2"
   ]
  },
  {
   "cell_type": "code",
   "execution_count": 41,
   "id": "b09841de",
   "metadata": {},
   "outputs": [
    {
     "data": {
      "text/plain": [
       "1"
      ]
     },
     "execution_count": 41,
     "metadata": {},
     "output_type": "execute_result"
    }
   ],
   "source": [
    "3//2"
   ]
  },
  {
   "cell_type": "code",
   "execution_count": 42,
   "id": "882a65ad",
   "metadata": {},
   "outputs": [
    {
     "data": {
      "text/plain": [
       "2"
      ]
     },
     "execution_count": 42,
     "metadata": {},
     "output_type": "execute_result"
    }
   ],
   "source": [
    "8%3"
   ]
  },
  {
   "cell_type": "code",
   "execution_count": 43,
   "id": "6888a49e",
   "metadata": {},
   "outputs": [
    {
     "data": {
      "text/plain": [
       "8"
      ]
     },
     "execution_count": 43,
     "metadata": {},
     "output_type": "execute_result"
    }
   ],
   "source": [
    "2**3"
   ]
  },
  {
   "cell_type": "code",
   "execution_count": 45,
   "id": "778ca385",
   "metadata": {},
   "outputs": [
    {
     "name": "stdout",
     "output_type": "stream",
     "text": [
      "one;two;three;"
     ]
    }
   ],
   "source": [
    "print(\"one\", end=\";\")\n",
    "print(\"two\",end=\";\")\n",
    "print(\"three\",end=\";\")"
   ]
  },
  {
   "cell_type": "code",
   "execution_count": 46,
   "id": "d4fa8160",
   "metadata": {},
   "outputs": [
    {
     "name": "stdout",
     "output_type": "stream",
     "text": [
      "one***two***three\n"
     ]
    }
   ],
   "source": [
    "print(\"one\",\"two\", \"three\", sep=\"***\")"
   ]
  },
  {
   "cell_type": "code",
   "execution_count": 48,
   "id": "cec1070b",
   "metadata": {},
   "outputs": [
    {
     "name": "stdout",
     "output_type": "stream",
     "text": [
      "mesudiye meslek\n"
     ]
    }
   ],
   "source": [
    "print(\"mesudiye \"+\"meslek\")"
   ]
  },
  {
   "cell_type": "code",
   "execution_count": 56,
   "id": "f46e3810",
   "metadata": {},
   "outputs": [
    {
     "name": "stdout",
     "output_type": "stream",
     "text": [
      "12345.68\n",
      "1.23e+04\n",
      "12,345.68\n",
      "   12,345.68\n",
      "    12345.68\n",
      "50%\n",
      "123,456\n",
      "    123456\n"
     ]
    }
   ],
   "source": [
    "print(format(12345.6789, '.2f'))\n",
    "print(format(12345.6789, '.2e')) # 1.23e+04\n",
    "print(format(12345.6789, ',.2f')) # 12,345.68\n",
    "print(format(12345.6789, '12,.2f')) # 12,345.68\n",
    "print(format(12345.6789, '12.2f')) # 12345.68\n",
    "print(format(0.5, '.0%')) # 50%\n",
    "print(format(123456, ',d')) # 123,456 \n",
    "print(format(123456, '10d')) #     123456 # 123456 sayısı 10 boşluklu bir alana yazdırılır"
   ]
  },
  {
   "cell_type": "code",
   "execution_count": 62,
   "id": "9cc9b8a4",
   "metadata": {},
   "outputs": [],
   "source": [
    "width = 10"
   ]
  },
  {
   "cell_type": "code",
   "execution_count": 63,
   "id": "7c8dd724",
   "metadata": {},
   "outputs": [
    {
     "name": "stdout",
     "output_type": "stream",
     "text": [
      "Width in değeri 3.14 den farklı\n"
     ]
    }
   ],
   "source": [
    "if(width==3.14):\n",
    "    print(\"width in değeri 3.14\")\n",
    "else:\n",
    "    print(\"Width in değeri 3.14 den farklı\")\n",
    "    \n"
   ]
  },
  {
   "cell_type": "code",
   "execution_count": null,
   "id": "72fee50b",
   "metadata": {},
   "outputs": [],
   "source": []
  }
 ],
 "metadata": {
  "kernelspec": {
   "display_name": "Python 3",
   "language": "python",
   "name": "python3"
  },
  "language_info": {
   "codemirror_mode": {
    "name": "ipython",
    "version": 3
   },
   "file_extension": ".py",
   "mimetype": "text/x-python",
   "name": "python",
   "nbconvert_exporter": "python",
   "pygments_lexer": "ipython3",
   "version": "3.8.8"
  }
 },
 "nbformat": 4,
 "nbformat_minor": 5
}
